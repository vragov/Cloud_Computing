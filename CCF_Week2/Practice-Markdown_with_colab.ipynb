{
  "nbformat": 4,
  "nbformat_minor": 0,
  "metadata": {
    "kernelspec": {
      "display_name": "Python 3",
      "language": "python",
      "name": "python3"
    },
    "language_info": {
      "codemirror_mode": {
        "name": "ipython",
        "version": 3
      },
      "file_extension": ".py",
      "mimetype": "text/x-python",
      "name": "python",
      "nbconvert_exporter": "python",
      "pygments_lexer": "ipython3",
      "version": "3.7.6"
    },
    "colab": {
      "name": "Practice-Markdown.ipynb",
      "provenance": []
    }
  },
  "cells": [
    {
      "cell_type": "markdown",
      "metadata": {
        "id": "vdka8KD8O4fh"
      },
      "source": [
        "## Practice Markdown"
      ]
    },
    {
      "cell_type": "markdown",
      "metadata": {
        "id": "7LLapXKLO4fi"
      },
      "source": [
        "This notebook lets you experiment with producing repeatable technical documentation.  Use this notebook to do the following actions:\n",
        "\n",
        "* Create a code cell and print a Python Hello World statement:  `print(\"hello world\")`\n",
        "* Create a Markdown Cell and add a Title using `#` and then a statement using plain text.  You can looks at the source code for this cell to get an idea of how to use Markdown.\n",
        "* Take some ideas from the [Master Markdown Github Guide](https://guides.github.com/features/mastering-markdown/) and implement them here.\n",
        "* Download this notebook as a `.ipynb` file and check into a Github Project.  You can [see an example here](https://github.com/noahgift/duke-coursera-ccf-lab1/blob/main/Practice-Markdown.ipynb).\n",
        "* Open your notebook in Google Colab and save it into the same Github Project.  You can [see an example here](https://github.com/noahgift/duke-coursera-ccf-lab1/blob/main/Practice_Markdown_with_colab.ipynb).\n"
      ]
    },
    {
      "cell_type": "code",
      "metadata": {
        "id": "o8Jq6ZXoO4fk",
        "outputId": "dbfd96cf-3054-4469-9497-ad3ec46fafa7"
      },
      "source": [
        "print(\"hello world\")"
      ],
      "execution_count": null,
      "outputs": [
        {
          "output_type": "stream",
          "text": [
            "hello world\n"
          ],
          "name": "stdout"
        }
      ]
    },
    {
      "cell_type": "markdown",
      "metadata": {
        "id": "PbvV7sVJO4fl"
      },
      "source": [
        "# This is a title for the Practice Purposes"
      ]
    },
    {
      "cell_type": "markdown",
      "metadata": {
        "id": "zKz_xbK1O4fl"
      },
      "source": [
        "## Emphasis\n",
        "\n",
        "*Italic text*\n",
        "_Also Italic text_\n",
        "\n",
        "**Bold text**\n",
        "__Also bold text__"
      ]
    },
    {
      "cell_type": "markdown",
      "metadata": {
        "id": "crZdlq7bO4fm"
      },
      "source": [
        "## Blockquotes\n",
        "\n",
        "Isaac Azimov:\n",
        "> The saddest aspect of life right now is that science gathers knowledge faster than society gathers wisdom.\n"
      ]
    },
    {
      "cell_type": "markdown",
      "metadata": {
        "id": "gnV1WPQ3O4fn"
      },
      "source": [
        "## Syntax highlighting\n",
        "\n",
        "``` python\n",
        "def addition(x,y):\n",
        "    return x+y\n",
        "```"
      ]
    },
    {
      "cell_type": "markdown",
      "metadata": {
        "id": "nMrMHXu8O4fn"
      },
      "source": [
        "## Tables\n",
        "\n",
        "Salary | Country | Happiness\n",
        "------------ | ------------- | ----------\n",
        "50K USD | Ukraine | 9/10\n",
        "100K USD | Canada | 6/10\n"
      ]
    },
    {
      "cell_type": "markdown",
      "metadata": {
        "id": "WV9un_sFO4fo"
      },
      "source": [
        "## Strikethrough\n",
        "\n",
        "Anyone can become ~~ultra wealthy~~"
      ]
    },
    {
      "cell_type": "code",
      "metadata": {
        "id": "cx12PdngO4fp"
      },
      "source": [
        ""
      ],
      "execution_count": null,
      "outputs": []
    }
  ]
}